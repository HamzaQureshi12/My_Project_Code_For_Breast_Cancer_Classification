{
  "nbformat": 4,
  "nbformat_minor": 0,
  "metadata": {
    "colab": {
      "provenance": [],
      "authorship_tag": "ABX9TyP1tzoeYWiW13F6902nqCoQ",
      "include_colab_link": true
    },
    "kernelspec": {
      "name": "python3",
      "display_name": "Python 3"
    },
    "language_info": {
      "name": "python"
    }
  },
  "cells": [
    {
      "cell_type": "markdown",
      "metadata": {
        "id": "view-in-github",
        "colab_type": "text"
      },
      "source": [
        "<a href=\"https://colab.research.google.com/github/HamzaQureshi12/My_Project_Code_For_Breast_Cancer_Classification/blob/main/Breast_Cancer_Classification_Code.ipynb\" target=\"_parent\"><img src=\"https://colab.research.google.com/assets/colab-badge.svg\" alt=\"Open In Colab\"/></a>"
      ]
    },
    {
      "cell_type": "markdown",
      "source": [
        "# Importing Google Drive"
      ],
      "metadata": {
        "id": "xdAXPiPZX3ul"
      }
    },
    {
      "cell_type": "code",
      "source": [
        "from google.colab import drive\n",
        "drive.mount('/content/drive')"
      ],
      "metadata": {
        "colab": {
          "base_uri": "https://localhost:8080/"
        },
        "id": "F084wpWoX0Cg",
        "outputId": "b6e47e2d-529c-4fb8-b960-131649138616"
      },
      "execution_count": null,
      "outputs": [
        {
          "output_type": "stream",
          "name": "stdout",
          "text": [
            "Mounted at /content/drive\n"
          ]
        }
      ]
    },
    {
      "cell_type": "markdown",
      "source": [
        "# Importing The Libraries:"
      ],
      "metadata": {
        "id": "3-En1CXDtX45"
      }
    },
    {
      "cell_type": "code",
      "execution_count": null,
      "metadata": {
        "id": "MXtOksGy8Yj1"
      },
      "outputs": [],
      "source": [
        "import os\n",
        "import numpy as np\n",
        "import pandas as pd\n",
        "\n",
        "import tensorflow as tf\n",
        "\n",
        "from sklearn.metrics import *\n",
        "\n",
        "import matplotlib.pyplot as plt\n",
        "import seaborn as sns\n",
        "\n",
        "AUTOTUNE_SETTING = tf.data.experimental.AUTOTUNE\n",
        "folds_data = pd.read_csv('/content/drive/MyDrive/Data Set/Folds.csv')\n",
        "image_folder_path = '/content/drive/MyDrive/Data Set/BreaKHis_v1/'\n",
        "tumor_classes = ['benign', 'malignant']"
      ]
    },
    {
      "cell_type": "code",
      "source": [
        "folds_data = folds_data.rename(columns={'filename': 'path'})\n",
        "folds_data['label'] = folds_data.path.apply(lambda x: x.split('/')[3])\n",
        "folds_data['label_int'] = folds_data.label.apply(lambda x: tumor_classes.index(x))\n",
        "folds_data['file_name'] = folds_data.path.apply(lambda x: x.split('/')[-1])\n",
        "folds_data.head(3)\n"
      ],
      "metadata": {
        "colab": {
          "base_uri": "https://localhost:8080/",
          "height": 195
        },
        "id": "LJAThFV0YMWS",
        "outputId": "74701246-fb4e-4601-83ed-73665e8ae211"
      },
      "execution_count": null,
      "outputs": [
        {
          "output_type": "execute_result",
          "data": {
            "text/plain": [
              "   fold  mag    grp                                               path  \\\n",
              "0     1  100  train  BreaKHis_v1/histology_slides/breast/benign/SOB...   \n",
              "1     1  100  train  BreaKHis_v1/histology_slides/breast/benign/SOB...   \n",
              "2     1  100  train  BreaKHis_v1/histology_slides/breast/benign/SOB...   \n",
              "\n",
              "    label  label_int                       file_name  \n",
              "0  benign          0  SOB_B_A-14-22549AB-100-001.png  \n",
              "1  benign          0  SOB_B_A-14-22549AB-100-002.png  \n",
              "2  benign          0  SOB_B_A-14-22549AB-100-003.png  "
            ],
            "text/html": [
              "\n",
              "  <div id=\"df-74cd7bf7-462e-4701-b589-635206a1f8ce\" class=\"colab-df-container\">\n",
              "    <div>\n",
              "<style scoped>\n",
              "    .dataframe tbody tr th:only-of-type {\n",
              "        vertical-align: middle;\n",
              "    }\n",
              "\n",
              "    .dataframe tbody tr th {\n",
              "        vertical-align: top;\n",
              "    }\n",
              "\n",
              "    .dataframe thead th {\n",
              "        text-align: right;\n",
              "    }\n",
              "</style>\n",
              "<table border=\"1\" class=\"dataframe\">\n",
              "  <thead>\n",
              "    <tr style=\"text-align: right;\">\n",
              "      <th></th>\n",
              "      <th>fold</th>\n",
              "      <th>mag</th>\n",
              "      <th>grp</th>\n",
              "      <th>path</th>\n",
              "      <th>label</th>\n",
              "      <th>label_int</th>\n",
              "      <th>file_name</th>\n",
              "    </tr>\n",
              "  </thead>\n",
              "  <tbody>\n",
              "    <tr>\n",
              "      <th>0</th>\n",
              "      <td>1</td>\n",
              "      <td>100</td>\n",
              "      <td>train</td>\n",
              "      <td>BreaKHis_v1/histology_slides/breast/benign/SOB...</td>\n",
              "      <td>benign</td>\n",
              "      <td>0</td>\n",
              "      <td>SOB_B_A-14-22549AB-100-001.png</td>\n",
              "    </tr>\n",
              "    <tr>\n",
              "      <th>1</th>\n",
              "      <td>1</td>\n",
              "      <td>100</td>\n",
              "      <td>train</td>\n",
              "      <td>BreaKHis_v1/histology_slides/breast/benign/SOB...</td>\n",
              "      <td>benign</td>\n",
              "      <td>0</td>\n",
              "      <td>SOB_B_A-14-22549AB-100-002.png</td>\n",
              "    </tr>\n",
              "    <tr>\n",
              "      <th>2</th>\n",
              "      <td>1</td>\n",
              "      <td>100</td>\n",
              "      <td>train</td>\n",
              "      <td>BreaKHis_v1/histology_slides/breast/benign/SOB...</td>\n",
              "      <td>benign</td>\n",
              "      <td>0</td>\n",
              "      <td>SOB_B_A-14-22549AB-100-003.png</td>\n",
              "    </tr>\n",
              "  </tbody>\n",
              "</table>\n",
              "</div>\n",
              "    <div class=\"colab-df-buttons\">\n",
              "\n",
              "  <div class=\"colab-df-container\">\n",
              "    <button class=\"colab-df-convert\" onclick=\"convertToInteractive('df-74cd7bf7-462e-4701-b589-635206a1f8ce')\"\n",
              "            title=\"Convert this dataframe to an interactive table.\"\n",
              "            style=\"display:none;\">\n",
              "\n",
              "  <svg xmlns=\"http://www.w3.org/2000/svg\" height=\"24px\" viewBox=\"0 -960 960 960\">\n",
              "    <path d=\"M120-120v-720h720v720H120Zm60-500h600v-160H180v160Zm220 220h160v-160H400v160Zm0 220h160v-160H400v160ZM180-400h160v-160H180v160Zm440 0h160v-160H620v160ZM180-180h160v-160H180v160Zm440 0h160v-160H620v160Z\"/>\n",
              "  </svg>\n",
              "    </button>\n",
              "\n",
              "  <style>\n",
              "    .colab-df-container {\n",
              "      display:flex;\n",
              "      gap: 12px;\n",
              "    }\n",
              "\n",
              "    .colab-df-convert {\n",
              "      background-color: #E8F0FE;\n",
              "      border: none;\n",
              "      border-radius: 50%;\n",
              "      cursor: pointer;\n",
              "      display: none;\n",
              "      fill: #1967D2;\n",
              "      height: 32px;\n",
              "      padding: 0 0 0 0;\n",
              "      width: 32px;\n",
              "    }\n",
              "\n",
              "    .colab-df-convert:hover {\n",
              "      background-color: #E2EBFA;\n",
              "      box-shadow: 0px 1px 2px rgba(60, 64, 67, 0.3), 0px 1px 3px 1px rgba(60, 64, 67, 0.15);\n",
              "      fill: #174EA6;\n",
              "    }\n",
              "\n",
              "    .colab-df-buttons div {\n",
              "      margin-bottom: 4px;\n",
              "    }\n",
              "\n",
              "    [theme=dark] .colab-df-convert {\n",
              "      background-color: #3B4455;\n",
              "      fill: #D2E3FC;\n",
              "    }\n",
              "\n",
              "    [theme=dark] .colab-df-convert:hover {\n",
              "      background-color: #434B5C;\n",
              "      box-shadow: 0px 1px 3px 1px rgba(0, 0, 0, 0.15);\n",
              "      filter: drop-shadow(0px 1px 2px rgba(0, 0, 0, 0.3));\n",
              "      fill: #FFFFFF;\n",
              "    }\n",
              "  </style>\n",
              "\n",
              "    <script>\n",
              "      const buttonEl =\n",
              "        document.querySelector('#df-74cd7bf7-462e-4701-b589-635206a1f8ce button.colab-df-convert');\n",
              "      buttonEl.style.display =\n",
              "        google.colab.kernel.accessAllowed ? 'block' : 'none';\n",
              "\n",
              "      async function convertToInteractive(key) {\n",
              "        const element = document.querySelector('#df-74cd7bf7-462e-4701-b589-635206a1f8ce');\n",
              "        const dataTable =\n",
              "          await google.colab.kernel.invokeFunction('convertToInteractive',\n",
              "                                                    [key], {});\n",
              "        if (!dataTable) return;\n",
              "\n",
              "        const docLinkHtml = 'Like what you see? Visit the ' +\n",
              "          '<a target=\"_blank\" href=https://colab.research.google.com/notebooks/data_table.ipynb>data table notebook</a>'\n",
              "          + ' to learn more about interactive tables.';\n",
              "        element.innerHTML = '';\n",
              "        dataTable['output_type'] = 'display_data';\n",
              "        await google.colab.output.renderOutput(dataTable, element);\n",
              "        const docLink = document.createElement('div');\n",
              "        docLink.innerHTML = docLinkHtml;\n",
              "        element.appendChild(docLink);\n",
              "      }\n",
              "    </script>\n",
              "  </div>\n",
              "\n",
              "\n",
              "<div id=\"df-4b07dbbf-188c-45c7-9a4c-3d4d3784e095\">\n",
              "  <button class=\"colab-df-quickchart\" onclick=\"quickchart('df-4b07dbbf-188c-45c7-9a4c-3d4d3784e095')\"\n",
              "            title=\"Suggest charts\"\n",
              "            style=\"display:none;\">\n",
              "\n",
              "<svg xmlns=\"http://www.w3.org/2000/svg\" height=\"24px\"viewBox=\"0 0 24 24\"\n",
              "     width=\"24px\">\n",
              "    <g>\n",
              "        <path d=\"M19 3H5c-1.1 0-2 .9-2 2v14c0 1.1.9 2 2 2h14c1.1 0 2-.9 2-2V5c0-1.1-.9-2-2-2zM9 17H7v-7h2v7zm4 0h-2V7h2v10zm4 0h-2v-4h2v4z\"/>\n",
              "    </g>\n",
              "</svg>\n",
              "  </button>\n",
              "\n",
              "<style>\n",
              "  .colab-df-quickchart {\n",
              "      --bg-color: #E8F0FE;\n",
              "      --fill-color: #1967D2;\n",
              "      --hover-bg-color: #E2EBFA;\n",
              "      --hover-fill-color: #174EA6;\n",
              "      --disabled-fill-color: #AAA;\n",
              "      --disabled-bg-color: #DDD;\n",
              "  }\n",
              "\n",
              "  [theme=dark] .colab-df-quickchart {\n",
              "      --bg-color: #3B4455;\n",
              "      --fill-color: #D2E3FC;\n",
              "      --hover-bg-color: #434B5C;\n",
              "      --hover-fill-color: #FFFFFF;\n",
              "      --disabled-bg-color: #3B4455;\n",
              "      --disabled-fill-color: #666;\n",
              "  }\n",
              "\n",
              "  .colab-df-quickchart {\n",
              "    background-color: var(--bg-color);\n",
              "    border: none;\n",
              "    border-radius: 50%;\n",
              "    cursor: pointer;\n",
              "    display: none;\n",
              "    fill: var(--fill-color);\n",
              "    height: 32px;\n",
              "    padding: 0;\n",
              "    width: 32px;\n",
              "  }\n",
              "\n",
              "  .colab-df-quickchart:hover {\n",
              "    background-color: var(--hover-bg-color);\n",
              "    box-shadow: 0 1px 2px rgba(60, 64, 67, 0.3), 0 1px 3px 1px rgba(60, 64, 67, 0.15);\n",
              "    fill: var(--button-hover-fill-color);\n",
              "  }\n",
              "\n",
              "  .colab-df-quickchart-complete:disabled,\n",
              "  .colab-df-quickchart-complete:disabled:hover {\n",
              "    background-color: var(--disabled-bg-color);\n",
              "    fill: var(--disabled-fill-color);\n",
              "    box-shadow: none;\n",
              "  }\n",
              "\n",
              "  .colab-df-spinner {\n",
              "    border: 2px solid var(--fill-color);\n",
              "    border-color: transparent;\n",
              "    border-bottom-color: var(--fill-color);\n",
              "    animation:\n",
              "      spin 1s steps(1) infinite;\n",
              "  }\n",
              "\n",
              "  @keyframes spin {\n",
              "    0% {\n",
              "      border-color: transparent;\n",
              "      border-bottom-color: var(--fill-color);\n",
              "      border-left-color: var(--fill-color);\n",
              "    }\n",
              "    20% {\n",
              "      border-color: transparent;\n",
              "      border-left-color: var(--fill-color);\n",
              "      border-top-color: var(--fill-color);\n",
              "    }\n",
              "    30% {\n",
              "      border-color: transparent;\n",
              "      border-left-color: var(--fill-color);\n",
              "      border-top-color: var(--fill-color);\n",
              "      border-right-color: var(--fill-color);\n",
              "    }\n",
              "    40% {\n",
              "      border-color: transparent;\n",
              "      border-right-color: var(--fill-color);\n",
              "      border-top-color: var(--fill-color);\n",
              "    }\n",
              "    60% {\n",
              "      border-color: transparent;\n",
              "      border-right-color: var(--fill-color);\n",
              "    }\n",
              "    80% {\n",
              "      border-color: transparent;\n",
              "      border-right-color: var(--fill-color);\n",
              "      border-bottom-color: var(--fill-color);\n",
              "    }\n",
              "    90% {\n",
              "      border-color: transparent;\n",
              "      border-bottom-color: var(--fill-color);\n",
              "    }\n",
              "  }\n",
              "</style>\n",
              "\n",
              "  <script>\n",
              "    async function quickchart(key) {\n",
              "      const quickchartButtonEl =\n",
              "        document.querySelector('#' + key + ' button');\n",
              "      quickchartButtonEl.disabled = true;  // To prevent multiple clicks.\n",
              "      quickchartButtonEl.classList.add('colab-df-spinner');\n",
              "      try {\n",
              "        const charts = await google.colab.kernel.invokeFunction(\n",
              "            'suggestCharts', [key], {});\n",
              "      } catch (error) {\n",
              "        console.error('Error during call to suggestCharts:', error);\n",
              "      }\n",
              "      quickchartButtonEl.classList.remove('colab-df-spinner');\n",
              "      quickchartButtonEl.classList.add('colab-df-quickchart-complete');\n",
              "    }\n",
              "    (() => {\n",
              "      let quickchartButtonEl =\n",
              "        document.querySelector('#df-4b07dbbf-188c-45c7-9a4c-3d4d3784e095 button');\n",
              "      quickchartButtonEl.style.display =\n",
              "        google.colab.kernel.accessAllowed ? 'block' : 'none';\n",
              "    })();\n",
              "  </script>\n",
              "</div>\n",
              "    </div>\n",
              "  </div>\n"
            ],
            "application/vnd.google.colaboratory.intrinsic+json": {
              "type": "dataframe",
              "variable_name": "folds_data",
              "summary": "{\n  \"name\": \"folds_data\",\n  \"rows\": 39545,\n  \"fields\": [\n    {\n      \"column\": \"fold\",\n      \"properties\": {\n        \"dtype\": \"number\",\n        \"std\": 1,\n        \"min\": 1,\n        \"max\": 5,\n        \"num_unique_values\": 5,\n        \"samples\": [\n          2,\n          5,\n          3\n        ],\n        \"semantic_type\": \"\",\n        \"description\": \"\"\n      }\n    },\n    {\n      \"column\": \"mag\",\n      \"properties\": {\n        \"dtype\": \"number\",\n        \"std\": 133,\n        \"min\": 40,\n        \"max\": 400,\n        \"num_unique_values\": 4,\n        \"samples\": [\n          200,\n          400,\n          100\n        ],\n        \"semantic_type\": \"\",\n        \"description\": \"\"\n      }\n    },\n    {\n      \"column\": \"grp\",\n      \"properties\": {\n        \"dtype\": \"category\",\n        \"num_unique_values\": 2,\n        \"samples\": [\n          \"test\",\n          \"train\"\n        ],\n        \"semantic_type\": \"\",\n        \"description\": \"\"\n      }\n    },\n    {\n      \"column\": \"path\",\n      \"properties\": {\n        \"dtype\": \"category\",\n        \"num_unique_values\": 7909,\n        \"samples\": [\n          \"BreaKHis_v1/histology_slides/breast/malignant/SOB/ductal_carcinoma/SOB_M_DC_14-17901/100X/SOB_M_DC-14-17901-100-008.png\",\n          \"BreaKHis_v1/histology_slides/breast/benign/SOB/phyllodes_tumor/SOB_B_PT_14-21998AB/100X/SOB_B_PT-14-21998AB-100-006.png\"\n        ],\n        \"semantic_type\": \"\",\n        \"description\": \"\"\n      }\n    },\n    {\n      \"column\": \"label\",\n      \"properties\": {\n        \"dtype\": \"category\",\n        \"num_unique_values\": 2,\n        \"samples\": [\n          \"malignant\",\n          \"benign\"\n        ],\n        \"semantic_type\": \"\",\n        \"description\": \"\"\n      }\n    },\n    {\n      \"column\": \"label_int\",\n      \"properties\": {\n        \"dtype\": \"number\",\n        \"std\": 0,\n        \"min\": 0,\n        \"max\": 1,\n        \"num_unique_values\": 2,\n        \"samples\": [\n          1,\n          0\n        ],\n        \"semantic_type\": \"\",\n        \"description\": \"\"\n      }\n    },\n    {\n      \"column\": \"file_name\",\n      \"properties\": {\n        \"dtype\": \"category\",\n        \"num_unique_values\": 7909,\n        \"samples\": [\n          \"SOB_M_DC-14-17901-100-008.png\",\n          \"SOB_B_PT-14-21998AB-100-006.png\"\n        ],\n        \"semantic_type\": \"\",\n        \"description\": \"\"\n      }\n    }\n  ]\n}"
            }
          },
          "metadata": {},
          "execution_count": 4
        }
      ]
    },
    {
      "cell_type": "code",
      "source": [
        "# Defining colors for benign and malignant\n",
        "ax = sns.displot(\n",
        "    data=folds_data,\n",
        "    x='label',\n",
        "    hue='label',\n",
        "    palette={'benign': 'mediumorchid', 'malignant': 'gold'}\n",
        ")\n",
        "\n",
        "# Displaying count of each label\n",
        "print('Count of Benign    : ', folds_data[folds_data.label == 'benign'].label.count())\n",
        "print('Count of Malignant : ', folds_data[folds_data.label == 'malignant'].label.count())\n"
      ],
      "metadata": {
        "colab": {
          "base_uri": "https://localhost:8080/",
          "height": 541
        },
        "id": "4yEOJOVHYccJ",
        "outputId": "59a94e7d-f8b8-41ef-965e-f553f6e0cbad"
      },
      "execution_count": null,
      "outputs": [
        {
          "output_type": "stream",
          "name": "stdout",
          "text": [
            "Count of Benign    :  12400\n",
            "Count of Malignant :  27145\n"
          ]
        },
        {
          "output_type": "display_data",
          "data": {
            "text/plain": [
              "<Figure size 620.375x500 with 1 Axes>"
            ],
            "image/png": "[encoded data removed]"
          },
          "metadata": {}
        }
      ]
    },
    {
      "cell_type": "code",
      "source": [
        "# Remove 600 from dataset for testing\n",
        "test_set = folds_data.groupby('label').sample(n=300)\n",
        "train_set = folds_data.drop(test_set.index).reset_index(drop=True)\n",
        "test_set = test_set.reset_index(drop=True)\n",
        "\n",
        "# Split training and validation set\n",
        "validation_set = train_set.sample(frac=0.2)\n",
        "train_set = train_set.drop(validation_set.index).reset_index(drop=True)\n",
        "validation_set = validation_set.reset_index(drop=True)\n",
        "\n",
        "# Assign sets and combine data\n",
        "test_set['set'] = 'test'\n",
        "train_set['set'] = 'train'\n",
        "validation_set['set'] = 'valid'\n",
        "combined_dataset = pd.concat([train_set, validation_set, test_set])\n",
        "\n",
        "# Set up the figure with a row of three subplots\n",
        "fig, axes = plt.subplots(1, 3, figsize=(18, 5))\n",
        "\n",
        "# Plot each distribution in a different color and assign to specific axes\n",
        "sns.histplot(data=train_set, x='label', color='mediumorchid', ax=axes[0])\n",
        "axes[0].set_title('Training Set')\n",
        "\n",
        "sns.histplot(data=validation_set, x='label', color='gold', ax=axes[1])\n",
        "axes[1].set_title('Validation Set')\n",
        "\n",
        "sns.histplot(data=test_set, x='label', color='dodgerblue', ax=axes[2])\n",
        "axes[2].set_title('Test Set')\n",
        "\n",
        "# Show the plots in a row\n",
        "plt.tight_layout()\n",
        "plt.show()\n",
        "\n",
        "# Print counts for each set\n",
        "print('Training set')\n",
        "print(train_set.label.value_counts())\n",
        "\n",
        "print('\\nValidation set')\n",
        "print(validation_set.label.value_counts())\n",
        "\n",
        "print('\\nTest set')\n",
        "print(test_set.label.value_counts())\n"
      ],
      "metadata": {
        "colab": {
          "base_uri": "https://localhost:8080/",
          "height": 546
        },
        "id": "rdnClGiYYneI",
        "outputId": "6190d27a-d0da-4a24-f309-cf2fad1a6e19"
      },
      "execution_count": null,
      "outputs": [
        {
          "output_type": "display_data",
          "data": {
            "text/plain": [
              "<Figure size 1800x500 with 3 Axes>"
            ],
            "image/png": "[encoded data removed]"
          },
          "metadata": {}
        },
        {
          "output_type": "stream",
          "name": "stdout",
          "text": [
            "Training set\n",
            "label\n",
            "malignant    21481\n",
            "benign        9675\n",
            "Name: count, dtype: int64\n",
            "\n",
            "Validation set\n",
            "label\n",
            "malignant    5364\n",
            "benign       2425\n",
            "Name: count, dtype: int64\n",
            "\n",
            "Test set\n",
            "label\n",
            "benign       300\n",
            "malignant    300\n",
            "Name: count, dtype: int64\n"
          ]
        }
      ]
    },
    {
      "cell_type": "code",
      "source": [
        "# Upsample training dataset\n",
        "max_count = np.max(train_set.label.value_counts())\n",
        "train_set = train_set.groupby('label').sample(n=max_count, replace=True).reset_index(drop=True)\n",
        "\n",
        "# Plot distribution after upsampling\n",
        "ax = sns.displot(data=train_set, x='label', color='teal')\n",
        "ax.set(title='Upsampled Training Set')\n",
        "plt.show()\n",
        "\n",
        "# Display counts to verify upsampling\n",
        "print(train_set.label.value_counts())\n"
      ],
      "metadata": {
        "colab": {
          "base_uri": "https://localhost:8080/",
          "height": 598
        },
        "id": "tUr31dtCZPVp",
        "outputId": "e26201e5-8939-4bc4-f006-3b8081014eb6"
      },
      "execution_count": null,
      "outputs": [
        {
          "output_type": "display_data",
          "data": {
            "text/plain": [
              "<Figure size 500x500 with 1 Axes>"
            ],
            "image/png": "[encoded data removed]"
          },
          "metadata": {}
        },
        {
          "output_type": "stream",
          "name": "stdout",
          "text": [
            "label\n",
            "benign       21481\n",
            "malignant    21481\n",
            "Name: count, dtype: int64\n"
          ]
        }
      ]
    }
  ]
}